{
 "cells": [
  {
   "cell_type": "code",
   "execution_count": 20,
   "metadata": {},
   "outputs": [],
   "source": [
    "import numpy as np"
   ]
  },
  {
   "cell_type": "code",
   "execution_count": 18,
   "metadata": {},
   "outputs": [],
   "source": [
    "a=np.random.randint(1,10,10)\n",
    "b=np.random.randint(1,10,10)"
   ]
  },
  {
   "cell_type": "code",
   "execution_count": 19,
   "metadata": {},
   "outputs": [
    {
     "data": {
      "text/plain": [
       "(array([3, 6, 2, 8, 2, 9, 3, 6, 5, 8]), array([4, 6, 3, 4, 7, 5, 4, 3, 2, 3]))"
      ]
     },
     "execution_count": 19,
     "metadata": {},
     "output_type": "execute_result"
    }
   ],
   "source": [
    "a,b"
   ]
  },
  {
   "cell_type": "code",
   "execution_count": 20,
   "metadata": {},
   "outputs": [
    {
     "data": {
      "text/plain": [
       "array([ 7, 12,  5, 12,  9, 14,  7,  9,  7, 11])"
      ]
     },
     "execution_count": 20,
     "metadata": {},
     "output_type": "execute_result"
    }
   ],
   "source": [
    "z=np.empty(len(a),dtype=int)\n",
    "for i in range(len(a)):\n",
    "    z[i]=a[i]+b[i]\n",
    "z"
   ]
  },
  {
   "cell_type": "code",
   "execution_count": 21,
   "metadata": {},
   "outputs": [
    {
     "data": {
      "text/plain": [
       "(10,)"
      ]
     },
     "execution_count": 21,
     "metadata": {},
     "output_type": "execute_result"
    }
   ],
   "source": [
    "z.shape"
   ]
  },
  {
   "cell_type": "markdown",
   "metadata": {},
   "source": [
    "### 2-D matrices"
   ]
  },
  {
   "cell_type": "code",
   "execution_count": 22,
   "metadata": {},
   "outputs": [],
   "source": [
    "a=np.random.randint(1,10,(5,4))\n",
    "b=np.random.randint(1,10,(5,4))"
   ]
  },
  {
   "cell_type": "code",
   "execution_count": 23,
   "metadata": {},
   "outputs": [
    {
     "data": {
      "text/plain": [
       "(array([[5, 8, 7, 9],\n",
       "        [7, 4, 2, 2],\n",
       "        [7, 3, 9, 2],\n",
       "        [7, 1, 1, 3],\n",
       "        [9, 7, 4, 8]]), array([[5, 8, 2, 2],\n",
       "        [7, 2, 1, 4],\n",
       "        [6, 7, 8, 5],\n",
       "        [5, 1, 2, 5],\n",
       "        [6, 7, 4, 8]]))"
      ]
     },
     "execution_count": 23,
     "metadata": {},
     "output_type": "execute_result"
    }
   ],
   "source": [
    "a,b"
   ]
  },
  {
   "cell_type": "code",
   "execution_count": 25,
   "metadata": {},
   "outputs": [
    {
     "data": {
      "text/plain": [
       "8"
      ]
     },
     "execution_count": 25,
     "metadata": {},
     "output_type": "execute_result"
    }
   ],
   "source": [
    "a[0][1]"
   ]
  },
  {
   "cell_type": "code",
   "execution_count": 27,
   "metadata": {},
   "outputs": [],
   "source": [
    "z=np.empty(a.shape,dtype=int)\n",
    "for i in range(a.shape[0]):\n",
    "    for j in range(b.shape[1]):\n",
    "        z[i][j]=a[i][j]+b[i][j]"
   ]
  },
  {
   "cell_type": "code",
   "execution_count": 28,
   "metadata": {},
   "outputs": [
    {
     "data": {
      "text/plain": [
       "array([[10, 16,  9, 11],\n",
       "       [14,  6,  3,  6],\n",
       "       [13, 10, 17,  7],\n",
       "       [12,  2,  3,  8],\n",
       "       [15, 14,  8, 16]])"
      ]
     },
     "execution_count": 28,
     "metadata": {},
     "output_type": "execute_result"
    }
   ],
   "source": [
    "z"
   ]
  },
  {
   "cell_type": "code",
   "execution_count": 30,
   "metadata": {},
   "outputs": [],
   "source": [
    "a=np.random.randint(1,10,(4,4))\n",
    "b=np.random.randint(1,10,(4,4))"
   ]
  },
  {
   "cell_type": "code",
   "execution_count": 31,
   "metadata": {},
   "outputs": [
    {
     "data": {
      "text/plain": [
       "array([[1, 7, 5, 4],\n",
       "       [4, 8, 2, 6],\n",
       "       [2, 4, 6, 4],\n",
       "       [2, 1, 3, 1]])"
      ]
     },
     "execution_count": 31,
     "metadata": {},
     "output_type": "execute_result"
    }
   ],
   "source": [
    "a"
   ]
  },
  {
   "cell_type": "code",
   "execution_count": 32,
   "metadata": {},
   "outputs": [
    {
     "data": {
      "text/plain": [
       "array([[7, 4, 6, 8],\n",
       "       [6, 9, 7, 6],\n",
       "       [5, 6, 5, 9],\n",
       "       [6, 4, 8, 8]])"
      ]
     },
     "execution_count": 32,
     "metadata": {},
     "output_type": "execute_result"
    }
   ],
   "source": [
    "b"
   ]
  },
  {
   "cell_type": "code",
   "execution_count": 34,
   "metadata": {},
   "outputs": [],
   "source": [
    "res=np.empty(a.shape,dtype=int)\n",
    "for i in range(a.shape[0]):\n",
    "    for j in range(b.shape[1]):\n",
    "        res[i][j]=a[i][j]+b[i][j]"
   ]
  },
  {
   "cell_type": "code",
   "execution_count": 35,
   "metadata": {},
   "outputs": [
    {
     "data": {
      "text/plain": [
       "array([[ 8, 11, 11, 12],\n",
       "       [10, 17,  9, 12],\n",
       "       [ 7, 10, 11, 13],\n",
       "       [ 8,  5, 11,  9]])"
      ]
     },
     "execution_count": 35,
     "metadata": {},
     "output_type": "execute_result"
    }
   ],
   "source": [
    "res"
   ]
  },
  {
   "cell_type": "code",
   "execution_count": 21,
   "metadata": {},
   "outputs": [],
   "source": [
    "# addition of 3-d matrix\n",
    "a=np.random.randint(1,10,(3,3,3))\n",
    "b=np.random.randint(1,10,(3,3,3))\n",
    "c=np.random.randint(1,10,(3,3,3))"
   ]
  },
  {
   "cell_type": "code",
   "execution_count": 40,
   "metadata": {},
   "outputs": [
    {
     "data": {
      "text/plain": [
       "array([[6, 4, 1],\n",
       "       [6, 4, 7],\n",
       "       [7, 3, 4]])"
      ]
     },
     "execution_count": 40,
     "metadata": {},
     "output_type": "execute_result"
    }
   ],
   "source": [
    "a[2,:,:]\n",
    "# a"
   ]
  },
  {
   "cell_type": "code",
   "execution_count": 41,
   "metadata": {},
   "outputs": [
    {
     "data": {
      "text/plain": [
       "array([[[6, 2, 2],\n",
       "        [2, 3, 2],\n",
       "        [2, 4, 9]],\n",
       "\n",
       "       [[2, 3, 7],\n",
       "        [3, 5, 1],\n",
       "        [4, 3, 9]],\n",
       "\n",
       "       [[6, 4, 1],\n",
       "        [6, 4, 7],\n",
       "        [7, 3, 4]]])"
      ]
     },
     "execution_count": 41,
     "metadata": {},
     "output_type": "execute_result"
    }
   ],
   "source": [
    "a"
   ]
  },
  {
   "cell_type": "code",
   "execution_count": 24,
   "metadata": {},
   "outputs": [
    {
     "name": "stdout",
     "output_type": "stream",
     "text": [
      "[[[ 9.  5.  6.]\n",
      "  [ 6.  7.  4.]\n",
      "  [ 9.  9. 18.]]\n",
      "\n",
      " [[ 4.  7. 12.]\n",
      "  [ 6.  8.  8.]\n",
      "  [ 6. 12. 13.]]\n",
      "\n",
      " [[10.  7.  9.]\n",
      "  [14.  8.  8.]\n",
      "  [10.  9.  7.]]]\n"
     ]
    }
   ],
   "source": [
    "res=np.empty(a.shape)\n",
    "for i in range(a.shape[0]):\n",
    "    for j in range(a.shape[1]):\n",
    "        for k in range(a.shape[2]):\n",
    "            res[i,j,k]=a[i,j,k]+b[i,j,k]\n",
    "print(res)"
   ]
  },
  {
   "cell_type": "markdown",
   "metadata": {},
   "source": [
    "### find if given point is inside or outside the circle"
   ]
  },
  {
   "cell_type": "code",
   "execution_count": 44,
   "metadata": {},
   "outputs": [],
   "source": [
    "import math"
   ]
  },
  {
   "cell_type": "code",
   "execution_count": 50,
   "metadata": {},
   "outputs": [],
   "source": [
    "def inside_or_outside(cx,cy,r,x,y):\n",
    "    if math.sqrt((cx-x)**2+(cy-y)**2)<=r:\n",
    "        return 'Inside'\n",
    "    else:\n",
    "        return 'Outside'"
   ]
  },
  {
   "cell_type": "code",
   "execution_count": 52,
   "metadata": {},
   "outputs": [
    {
     "data": {
      "text/plain": [
       "'Outside'"
      ]
     },
     "execution_count": 52,
     "metadata": {},
     "output_type": "execute_result"
    }
   ],
   "source": [
    "inside_or_outside(2,3,5,2,88)"
   ]
  },
  {
   "cell_type": "code",
   "execution_count": 54,
   "metadata": {},
   "outputs": [],
   "source": [
    "a=np.random.randint(1,10,(4,5,6))"
   ]
  },
  {
   "cell_type": "code",
   "execution_count": 56,
   "metadata": {},
   "outputs": [
    {
     "data": {
      "text/plain": [
       "array([2, 8, 9, 2, 9, 4, 7, 2, 1, 4, 5, 1, 6, 4, 8, 7, 3, 3, 5, 7, 4, 9,\n",
       "       5, 3, 2, 2, 7, 6, 5, 9, 3, 6, 6, 4, 7, 6, 3, 6, 8, 5, 7, 9, 3, 5,\n",
       "       2, 4, 4, 7, 8, 4, 3, 8, 2, 2, 2, 8, 5, 2, 6, 6, 2, 7, 3, 1, 8, 3,\n",
       "       3, 4, 5, 1, 8, 5, 9, 2, 8, 6, 8, 2, 9, 8, 8, 4, 5, 9, 8, 4, 9, 8,\n",
       "       3, 9, 7, 5, 4, 4, 7, 7, 9, 4, 5, 7, 3, 1, 3, 1, 9, 6, 2, 3, 1, 6,\n",
       "       2, 6, 9, 3, 5, 7, 5, 4, 7, 7])"
      ]
     },
     "execution_count": 56,
     "metadata": {},
     "output_type": "execute_result"
    }
   ],
   "source": [
    "np.reshape(a,-1,'C')"
   ]
  },
  {
   "cell_type": "code",
   "execution_count": 57,
   "metadata": {},
   "outputs": [
    {
     "data": {
      "text/plain": [
       "array([[2, 8, 9, 2, 9, 4, 7, 2, 1, 4, 5, 1],\n",
       "       [6, 4, 8, 7, 3, 3, 5, 7, 4, 9, 5, 3],\n",
       "       [2, 2, 7, 6, 5, 9, 3, 6, 6, 4, 7, 6],\n",
       "       [3, 6, 8, 5, 7, 9, 3, 5, 2, 4, 4, 7],\n",
       "       [8, 4, 3, 8, 2, 2, 2, 8, 5, 2, 6, 6],\n",
       "       [2, 7, 3, 1, 8, 3, 3, 4, 5, 1, 8, 5],\n",
       "       [9, 2, 8, 6, 8, 2, 9, 8, 8, 4, 5, 9],\n",
       "       [8, 4, 9, 8, 3, 9, 7, 5, 4, 4, 7, 7],\n",
       "       [9, 4, 5, 7, 3, 1, 3, 1, 9, 6, 2, 3],\n",
       "       [1, 6, 2, 6, 9, 3, 5, 7, 5, 4, 7, 7]])"
      ]
     },
     "execution_count": 57,
     "metadata": {},
     "output_type": "execute_result"
    }
   ],
   "source": [
    "np.reshape(a,(10,-1),'C')"
   ]
  },
  {
   "cell_type": "code",
   "execution_count": 71,
   "metadata": {},
   "outputs": [],
   "source": [
    "a=np.random.randint(1,10,(5,4,3))\n",
    "b=np.random.randint(1,10,(7,4,3))\n",
    "# print(a,b)"
   ]
  },
  {
   "cell_type": "code",
   "execution_count": 73,
   "metadata": {},
   "outputs": [
    {
     "ename": "ValueError",
     "evalue": "all the input array dimensions except for the concatenation axis must match exactly",
     "output_type": "error",
     "traceback": [
      "\u001b[0;31m---------------------------------------------------------------------------\u001b[0m",
      "\u001b[0;31mValueError\u001b[0m                                Traceback (most recent call last)",
      "\u001b[0;32m<ipython-input-73-644816af0704>\u001b[0m in \u001b[0;36m<module>\u001b[0;34m\u001b[0m\n\u001b[0;32m----> 1\u001b[0;31m \u001b[0mnp\u001b[0m\u001b[0;34m.\u001b[0m\u001b[0mconcatenate\u001b[0m\u001b[0;34m(\u001b[0m\u001b[0;34m(\u001b[0m\u001b[0ma\u001b[0m\u001b[0;34m,\u001b[0m\u001b[0mb\u001b[0m\u001b[0;34m)\u001b[0m\u001b[0;34m,\u001b[0m\u001b[0maxis\u001b[0m\u001b[0;34m=\u001b[0m\u001b[0;36m1\u001b[0m\u001b[0;34m)\u001b[0m\u001b[0;34m\u001b[0m\u001b[0;34m\u001b[0m\u001b[0m\n\u001b[0m",
      "\u001b[0;31mValueError\u001b[0m: all the input array dimensions except for the concatenation axis must match exactly"
     ]
    }
   ],
   "source": [
    "np.concatenate((a,b),axis=1)"
   ]
  },
  {
   "cell_type": "code",
   "execution_count": null,
   "metadata": {},
   "outputs": [],
   "source": []
  }
 ],
 "metadata": {
  "celltoolbar": "Raw Cell Format",
  "kernelspec": {
   "display_name": "Python 3",
   "language": "python",
   "name": "python3"
  },
  "language_info": {
   "codemirror_mode": {
    "name": "ipython",
    "version": 3
   },
   "file_extension": ".py",
   "mimetype": "text/x-python",
   "name": "python",
   "nbconvert_exporter": "python",
   "pygments_lexer": "ipython3",
   "version": "3.7.3"
  }
 },
 "nbformat": 4,
 "nbformat_minor": 2
}
